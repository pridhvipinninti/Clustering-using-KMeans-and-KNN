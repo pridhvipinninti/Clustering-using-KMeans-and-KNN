{
 "cells": [
  {
   "cell_type": "code",
   "execution_count": 645,
   "metadata": {
    "id": "nMjf5hF_arpA"
   },
   "outputs": [],
   "source": [
    "import numpy as np\n",
    "import pandas as pd\n",
    "\n",
    "from sklearn.neighbors import KNeighborsClassifier\n",
    "from sklearn.model_selection import train_test_split\n",
    "\n",
    "import warnings\n",
    "warnings.filterwarnings(\"ignore\")"
   ]
  },
  {
   "cell_type": "code",
   "execution_count": 646,
   "metadata": {
    "id": "x0bis6W7aym8"
   },
   "outputs": [],
   "source": [
    "df = pd.read_excel(\"/content/Class_2023_10_18__01_49_QZ_Movies Movies & Movies.xlsx\")"
   ]
  },
  {
   "cell_type": "code",
   "execution_count": 647,
   "metadata": {
    "colab": {
     "base_uri": "https://localhost:8080/",
     "height": 643
    },
    "id": "XWOs3IvFa7qW",
    "outputId": "e8d2bde3-3ea1-4325-a723-a2cbe753d3f3"
   },
   "outputs": [
    {
     "data": {
      "text/html": [
       "\n",
       "  <div id=\"df-021e6c30-20a7-4612-9fe2-2e577b9ec641\" class=\"colab-df-container\">\n",
       "    <div>\n",
       "<style scoped>\n",
       "    .dataframe tbody tr th:only-of-type {\n",
       "        vertical-align: middle;\n",
       "    }\n",
       "\n",
       "    .dataframe tbody tr th {\n",
       "        vertical-align: top;\n",
       "    }\n",
       "\n",
       "    .dataframe thead th {\n",
       "        text-align: right;\n",
       "    }\n",
       "</style>\n",
       "<table border=\"1\" class=\"dataframe\">\n",
       "  <thead>\n",
       "    <tr style=\"text-align: right;\">\n",
       "      <th></th>\n",
       "      <th>Student Name</th>\n",
       "      <th>Using a scale 1 to 10, how much do you like action movies? (use decimals, e.g. 4.2)</th>\n",
       "      <th>Using a scale 1 to 10, how much do you like adventure movies? (use decimals, e.g. 4.2)</th>\n",
       "      <th>Using a scale 1 to 10, how much do you like comedy movies? (use decimals, e.g. 4.2)</th>\n",
       "      <th>Using a scale 1 to 10, how much do you like crime movies? (use decimals, e.g. 4.2)</th>\n",
       "      <th>Using a scale 1 to 10, how much do you like drama movies?</th>\n",
       "      <th>Using a scale 1 to 10, how much do you like fantasy movies?</th>\n",
       "      <th>Using a scale 1 to 10, how much do you like science fiction movies?</th>\n",
       "      <th>Using a scale 1 to 10, how much do you like horror movies?</th>\n",
       "      <th>Using a scale 1 to 10, how much do you like mystery movies?</th>\n",
       "      <th>Using a scale 1 to 10, how much do you like romance movies?</th>\n",
       "      <th>Using a scale 1 to 10, how much do you like thriller movies?</th>\n",
       "      <th>Using a scale 1 to 10, how much do you like documentary movies?</th>\n",
       "      <th>Using a scale 1 to 10, how much do you like animated movies?</th>\n",
       "      <th>On average, how many movies you watch on a single week</th>\n",
       "      <th>Which of the following movies you'd say is your preferred?</th>\n",
       "      <th>Describe yourself with 5 adjectives. For example:- Capable- Friendly- Happy- Sociable- Slow</th>\n",
       "    </tr>\n",
       "  </thead>\n",
       "  <tbody>\n",
       "    <tr>\n",
       "      <th>0</th>\n",
       "      <td>Aiman Anwer</td>\n",
       "      <td>7.5</td>\n",
       "      <td>6.5</td>\n",
       "      <td>8.5</td>\n",
       "      <td>8.5</td>\n",
       "      <td>10.0</td>\n",
       "      <td>10.0</td>\n",
       "      <td>3.5</td>\n",
       "      <td>1.5</td>\n",
       "      <td>8.5</td>\n",
       "      <td>9.5</td>\n",
       "      <td>9.5</td>\n",
       "      <td>1.5</td>\n",
       "      <td>4.5</td>\n",
       "      <td>C. 3) Two movies a week</td>\n",
       "      <td>D. Spiderman\\nE. Mulan\\nF. Hamilton\\nG. Jurass...</td>\n",
       "      <td>- Friendly\\n- Motivated\\n- Sociable\\n- Energet...</td>\n",
       "    </tr>\n",
       "    <tr>\n",
       "      <th>1</th>\n",
       "      <td>Aman</td>\n",
       "      <td>7</td>\n",
       "      <td>5</td>\n",
       "      <td>3.0</td>\n",
       "      <td>8.0</td>\n",
       "      <td>3.0</td>\n",
       "      <td>1.0</td>\n",
       "      <td>8.0</td>\n",
       "      <td>9.0</td>\n",
       "      <td>7.0</td>\n",
       "      <td>1.0</td>\n",
       "      <td>10.0</td>\n",
       "      <td>5.0</td>\n",
       "      <td>4.0</td>\n",
       "      <td>A. 1) zero movies. I don't watch movies</td>\n",
       "      <td>D. Spiderman</td>\n",
       "      <td>- Punctual\\n- Disciplined \\n- Introvert\\n- Fas...</td>\n",
       "    </tr>\n",
       "    <tr>\n",
       "      <th>2</th>\n",
       "      <td>Aman Sran</td>\n",
       "      <td>4.6</td>\n",
       "      <td>7.4</td>\n",
       "      <td>10.0</td>\n",
       "      <td>8.7</td>\n",
       "      <td>7.5</td>\n",
       "      <td>3.2</td>\n",
       "      <td>3.4</td>\n",
       "      <td>4.5</td>\n",
       "      <td>8.5</td>\n",
       "      <td>6.7</td>\n",
       "      <td>8.4</td>\n",
       "      <td>9.5</td>\n",
       "      <td>2.4</td>\n",
       "      <td>B. 2) One movie a week</td>\n",
       "      <td>B. Shrek</td>\n",
       "      <td>Sociable, Friendly, Empathetic, Passionate, Co...</td>\n",
       "    </tr>\n",
       "    <tr>\n",
       "      <th>3</th>\n",
       "      <td>Amarthya</td>\n",
       "      <td>7</td>\n",
       "      <td>8</td>\n",
       "      <td>9.0</td>\n",
       "      <td>6.0</td>\n",
       "      <td>7.0</td>\n",
       "      <td>7.0</td>\n",
       "      <td>7.0</td>\n",
       "      <td>1.0</td>\n",
       "      <td>7.0</td>\n",
       "      <td>7.0</td>\n",
       "      <td>8.0</td>\n",
       "      <td>6.0</td>\n",
       "      <td>8.0</td>\n",
       "      <td>B. 2) One movie a week</td>\n",
       "      <td>G. Jurassic Park</td>\n",
       "      <td>AI-driven\\nInformative\\nMultifunctional\\nnonch...</td>\n",
       "    </tr>\n",
       "    <tr>\n",
       "      <th>4</th>\n",
       "      <td>Ananta Verma</td>\n",
       "      <td>3.5</td>\n",
       "      <td>7.8</td>\n",
       "      <td>10.0</td>\n",
       "      <td>4.2</td>\n",
       "      <td>6.9</td>\n",
       "      <td>5.5</td>\n",
       "      <td>9.8</td>\n",
       "      <td>6.2</td>\n",
       "      <td>8.0</td>\n",
       "      <td>4.0</td>\n",
       "      <td>8.8</td>\n",
       "      <td>2.0</td>\n",
       "      <td>8.2</td>\n",
       "      <td>B. 2) One movie a week</td>\n",
       "      <td>D. Spiderman</td>\n",
       "      <td>-calm\\n-kind\\n-introvert\\n-passionate\\n-funny</td>\n",
       "    </tr>\n",
       "  </tbody>\n",
       "</table>\n",
       "</div>\n",
       "    <div class=\"colab-df-buttons\">\n",
       "\n",
       "  <div class=\"colab-df-container\">\n",
       "    <button class=\"colab-df-convert\" onclick=\"convertToInteractive('df-021e6c30-20a7-4612-9fe2-2e577b9ec641')\"\n",
       "            title=\"Convert this dataframe to an interactive table.\"\n",
       "            style=\"display:none;\">\n",
       "\n",
       "  <svg xmlns=\"http://www.w3.org/2000/svg\" height=\"24px\" viewBox=\"0 -960 960 960\">\n",
       "    <path d=\"M120-120v-720h720v720H120Zm60-500h600v-160H180v160Zm220 220h160v-160H400v160Zm0 220h160v-160H400v160ZM180-400h160v-160H180v160Zm440 0h160v-160H620v160ZM180-180h160v-160H180v160Zm440 0h160v-160H620v160Z\"/>\n",
       "  </svg>\n",
       "    </button>\n",
       "\n",
       "  <style>\n",
       "    .colab-df-container {\n",
       "      display:flex;\n",
       "      gap: 12px;\n",
       "    }\n",
       "\n",
       "    .colab-df-convert {\n",
       "      background-color: #E8F0FE;\n",
       "      border: none;\n",
       "      border-radius: 50%;\n",
       "      cursor: pointer;\n",
       "      display: none;\n",
       "      fill: #1967D2;\n",
       "      height: 32px;\n",
       "      padding: 0 0 0 0;\n",
       "      width: 32px;\n",
       "    }\n",
       "\n",
       "    .colab-df-convert:hover {\n",
       "      background-color: #E2EBFA;\n",
       "      box-shadow: 0px 1px 2px rgba(60, 64, 67, 0.3), 0px 1px 3px 1px rgba(60, 64, 67, 0.15);\n",
       "      fill: #174EA6;\n",
       "    }\n",
       "\n",
       "    .colab-df-buttons div {\n",
       "      margin-bottom: 4px;\n",
       "    }\n",
       "\n",
       "    [theme=dark] .colab-df-convert {\n",
       "      background-color: #3B4455;\n",
       "      fill: #D2E3FC;\n",
       "    }\n",
       "\n",
       "    [theme=dark] .colab-df-convert:hover {\n",
       "      background-color: #434B5C;\n",
       "      box-shadow: 0px 1px 3px 1px rgba(0, 0, 0, 0.15);\n",
       "      filter: drop-shadow(0px 1px 2px rgba(0, 0, 0, 0.3));\n",
       "      fill: #FFFFFF;\n",
       "    }\n",
       "  </style>\n",
       "\n",
       "    <script>\n",
       "      const buttonEl =\n",
       "        document.querySelector('#df-021e6c30-20a7-4612-9fe2-2e577b9ec641 button.colab-df-convert');\n",
       "      buttonEl.style.display =\n",
       "        google.colab.kernel.accessAllowed ? 'block' : 'none';\n",
       "\n",
       "      async function convertToInteractive(key) {\n",
       "        const element = document.querySelector('#df-021e6c30-20a7-4612-9fe2-2e577b9ec641');\n",
       "        const dataTable =\n",
       "          await google.colab.kernel.invokeFunction('convertToInteractive',\n",
       "                                                    [key], {});\n",
       "        if (!dataTable) return;\n",
       "\n",
       "        const docLinkHtml = 'Like what you see? Visit the ' +\n",
       "          '<a target=\"_blank\" href=https://colab.research.google.com/notebooks/data_table.ipynb>data table notebook</a>'\n",
       "          + ' to learn more about interactive tables.';\n",
       "        element.innerHTML = '';\n",
       "        dataTable['output_type'] = 'display_data';\n",
       "        await google.colab.output.renderOutput(dataTable, element);\n",
       "        const docLink = document.createElement('div');\n",
       "        docLink.innerHTML = docLinkHtml;\n",
       "        element.appendChild(docLink);\n",
       "      }\n",
       "    </script>\n",
       "  </div>\n",
       "\n",
       "\n",
       "<div id=\"df-44e29ea6-1edc-4d8a-b994-ce2fb690e9c2\">\n",
       "  <button class=\"colab-df-quickchart\" onclick=\"quickchart('df-44e29ea6-1edc-4d8a-b994-ce2fb690e9c2')\"\n",
       "            title=\"Suggest charts.\"\n",
       "            style=\"display:none;\">\n",
       "\n",
       "<svg xmlns=\"http://www.w3.org/2000/svg\" height=\"24px\"viewBox=\"0 0 24 24\"\n",
       "     width=\"24px\">\n",
       "    <g>\n",
       "        <path d=\"M19 3H5c-1.1 0-2 .9-2 2v14c0 1.1.9 2 2 2h14c1.1 0 2-.9 2-2V5c0-1.1-.9-2-2-2zM9 17H7v-7h2v7zm4 0h-2V7h2v10zm4 0h-2v-4h2v4z\"/>\n",
       "    </g>\n",
       "</svg>\n",
       "  </button>\n",
       "\n",
       "<style>\n",
       "  .colab-df-quickchart {\n",
       "      --bg-color: #E8F0FE;\n",
       "      --fill-color: #1967D2;\n",
       "      --hover-bg-color: #E2EBFA;\n",
       "      --hover-fill-color: #174EA6;\n",
       "      --disabled-fill-color: #AAA;\n",
       "      --disabled-bg-color: #DDD;\n",
       "  }\n",
       "\n",
       "  [theme=dark] .colab-df-quickchart {\n",
       "      --bg-color: #3B4455;\n",
       "      --fill-color: #D2E3FC;\n",
       "      --hover-bg-color: #434B5C;\n",
       "      --hover-fill-color: #FFFFFF;\n",
       "      --disabled-bg-color: #3B4455;\n",
       "      --disabled-fill-color: #666;\n",
       "  }\n",
       "\n",
       "  .colab-df-quickchart {\n",
       "    background-color: var(--bg-color);\n",
       "    border: none;\n",
       "    border-radius: 50%;\n",
       "    cursor: pointer;\n",
       "    display: none;\n",
       "    fill: var(--fill-color);\n",
       "    height: 32px;\n",
       "    padding: 0;\n",
       "    width: 32px;\n",
       "  }\n",
       "\n",
       "  .colab-df-quickchart:hover {\n",
       "    background-color: var(--hover-bg-color);\n",
       "    box-shadow: 0 1px 2px rgba(60, 64, 67, 0.3), 0 1px 3px 1px rgba(60, 64, 67, 0.15);\n",
       "    fill: var(--button-hover-fill-color);\n",
       "  }\n",
       "\n",
       "  .colab-df-quickchart-complete:disabled,\n",
       "  .colab-df-quickchart-complete:disabled:hover {\n",
       "    background-color: var(--disabled-bg-color);\n",
       "    fill: var(--disabled-fill-color);\n",
       "    box-shadow: none;\n",
       "  }\n",
       "\n",
       "  .colab-df-spinner {\n",
       "    border: 2px solid var(--fill-color);\n",
       "    border-color: transparent;\n",
       "    border-bottom-color: var(--fill-color);\n",
       "    animation:\n",
       "      spin 1s steps(1) infinite;\n",
       "  }\n",
       "\n",
       "  @keyframes spin {\n",
       "    0% {\n",
       "      border-color: transparent;\n",
       "      border-bottom-color: var(--fill-color);\n",
       "      border-left-color: var(--fill-color);\n",
       "    }\n",
       "    20% {\n",
       "      border-color: transparent;\n",
       "      border-left-color: var(--fill-color);\n",
       "      border-top-color: var(--fill-color);\n",
       "    }\n",
       "    30% {\n",
       "      border-color: transparent;\n",
       "      border-left-color: var(--fill-color);\n",
       "      border-top-color: var(--fill-color);\n",
       "      border-right-color: var(--fill-color);\n",
       "    }\n",
       "    40% {\n",
       "      border-color: transparent;\n",
       "      border-right-color: var(--fill-color);\n",
       "      border-top-color: var(--fill-color);\n",
       "    }\n",
       "    60% {\n",
       "      border-color: transparent;\n",
       "      border-right-color: var(--fill-color);\n",
       "    }\n",
       "    80% {\n",
       "      border-color: transparent;\n",
       "      border-right-color: var(--fill-color);\n",
       "      border-bottom-color: var(--fill-color);\n",
       "    }\n",
       "    90% {\n",
       "      border-color: transparent;\n",
       "      border-bottom-color: var(--fill-color);\n",
       "    }\n",
       "  }\n",
       "</style>\n",
       "\n",
       "  <script>\n",
       "    async function quickchart(key) {\n",
       "      const quickchartButtonEl =\n",
       "        document.querySelector('#' + key + ' button');\n",
       "      quickchartButtonEl.disabled = true;  // To prevent multiple clicks.\n",
       "      quickchartButtonEl.classList.add('colab-df-spinner');\n",
       "      try {\n",
       "        const charts = await google.colab.kernel.invokeFunction(\n",
       "            'suggestCharts', [key], {});\n",
       "      } catch (error) {\n",
       "        console.error('Error during call to suggestCharts:', error);\n",
       "      }\n",
       "      quickchartButtonEl.classList.remove('colab-df-spinner');\n",
       "      quickchartButtonEl.classList.add('colab-df-quickchart-complete');\n",
       "    }\n",
       "    (() => {\n",
       "      let quickchartButtonEl =\n",
       "        document.querySelector('#df-44e29ea6-1edc-4d8a-b994-ce2fb690e9c2 button');\n",
       "      quickchartButtonEl.style.display =\n",
       "        google.colab.kernel.accessAllowed ? 'block' : 'none';\n",
       "    })();\n",
       "  </script>\n",
       "</div>\n",
       "    </div>\n",
       "  </div>\n"
      ],
      "text/plain": [
       "   Student Name  \\\n",
       "0   Aiman Anwer   \n",
       "1          Aman   \n",
       "2     Aman Sran   \n",
       "3      Amarthya   \n",
       "4  Ananta Verma   \n",
       "\n",
       "  Using a scale 1 to 10, how much do you like action movies? (use decimals, e.g. 4.2)  \\\n",
       "0                                                7.5                                    \n",
       "1                                                  7                                    \n",
       "2                                                4.6                                    \n",
       "3                                                  7                                    \n",
       "4                                                3.5                                    \n",
       "\n",
       "  Using a scale 1 to 10, how much do you like adventure movies? (use decimals, e.g. 4.2)  \\\n",
       "0                                                6.5                                       \n",
       "1                                                  5                                       \n",
       "2                                                7.4                                       \n",
       "3                                                  8                                       \n",
       "4                                                7.8                                       \n",
       "\n",
       "   Using a scale 1 to 10, how much do you like comedy movies? (use decimals, e.g. 4.2)  \\\n",
       "0                                                8.5                                     \n",
       "1                                                3.0                                     \n",
       "2                                               10.0                                     \n",
       "3                                                9.0                                     \n",
       "4                                               10.0                                     \n",
       "\n",
       "   Using a scale 1 to 10, how much do you like crime movies? (use decimals, e.g. 4.2)  \\\n",
       "0                                                8.5                                    \n",
       "1                                                8.0                                    \n",
       "2                                                8.7                                    \n",
       "3                                                6.0                                    \n",
       "4                                                4.2                                    \n",
       "\n",
       "   Using a scale 1 to 10, how much do you like drama movies?  \\\n",
       "0                                               10.0           \n",
       "1                                                3.0           \n",
       "2                                                7.5           \n",
       "3                                                7.0           \n",
       "4                                                6.9           \n",
       "\n",
       "   Using a scale 1 to 10, how much do you like fantasy movies?  \\\n",
       "0                                               10.0             \n",
       "1                                                1.0             \n",
       "2                                                3.2             \n",
       "3                                                7.0             \n",
       "4                                                5.5             \n",
       "\n",
       "   Using a scale 1 to 10, how much do you like science fiction movies?  \\\n",
       "0                                                3.5                     \n",
       "1                                                8.0                     \n",
       "2                                                3.4                     \n",
       "3                                                7.0                     \n",
       "4                                                9.8                     \n",
       "\n",
       "   Using a scale 1 to 10, how much do you like horror movies?  \\\n",
       "0                                                1.5            \n",
       "1                                                9.0            \n",
       "2                                                4.5            \n",
       "3                                                1.0            \n",
       "4                                                6.2            \n",
       "\n",
       "   Using a scale 1 to 10, how much do you like mystery movies?  \\\n",
       "0                                                8.5             \n",
       "1                                                7.0             \n",
       "2                                                8.5             \n",
       "3                                                7.0             \n",
       "4                                                8.0             \n",
       "\n",
       "   Using a scale 1 to 10, how much do you like romance movies?  \\\n",
       "0                                                9.5             \n",
       "1                                                1.0             \n",
       "2                                                6.7             \n",
       "3                                                7.0             \n",
       "4                                                4.0             \n",
       "\n",
       "   Using a scale 1 to 10, how much do you like thriller movies?  \\\n",
       "0                                                9.5              \n",
       "1                                               10.0              \n",
       "2                                                8.4              \n",
       "3                                                8.0              \n",
       "4                                                8.8              \n",
       "\n",
       "   Using a scale 1 to 10, how much do you like documentary movies?  \\\n",
       "0                                                1.5                 \n",
       "1                                                5.0                 \n",
       "2                                                9.5                 \n",
       "3                                                6.0                 \n",
       "4                                                2.0                 \n",
       "\n",
       "   Using a scale 1 to 10, how much do you like animated movies?  \\\n",
       "0                                                4.5              \n",
       "1                                                4.0              \n",
       "2                                                2.4              \n",
       "3                                                8.0              \n",
       "4                                                8.2              \n",
       "\n",
       "  On average, how many movies you watch on a single week  \\\n",
       "0                            C. 3) Two movies a week       \n",
       "1            A. 1) zero movies. I don't watch movies       \n",
       "2                             B. 2) One movie a week       \n",
       "3                             B. 2) One movie a week       \n",
       "4                             B. 2) One movie a week       \n",
       "\n",
       "  Which of the following movies you'd say is your preferred?  \\\n",
       "0  D. Spiderman\\nE. Mulan\\nF. Hamilton\\nG. Jurass...           \n",
       "1                                       D. Spiderman           \n",
       "2                                           B. Shrek           \n",
       "3                                   G. Jurassic Park           \n",
       "4                                       D. Spiderman           \n",
       "\n",
       "  Describe yourself with 5 adjectives. For example:- Capable- Friendly- Happy- Sociable- Slow  \n",
       "0  - Friendly\\n- Motivated\\n- Sociable\\n- Energet...                                           \n",
       "1  - Punctual\\n- Disciplined \\n- Introvert\\n- Fas...                                           \n",
       "2  Sociable, Friendly, Empathetic, Passionate, Co...                                           \n",
       "3  AI-driven\\nInformative\\nMultifunctional\\nnonch...                                           \n",
       "4      -calm\\n-kind\\n-introvert\\n-passionate\\n-funny                                           "
      ]
     },
     "execution_count": 647,
     "metadata": {},
     "output_type": "execute_result"
    }
   ],
   "source": [
    "df.head()"
   ]
  },
  {
   "cell_type": "markdown",
   "metadata": {
    "id": "tdboeSUmgWX_"
   },
   "source": [
    "# Data Exploration"
   ]
  },
  {
   "cell_type": "code",
   "execution_count": 648,
   "metadata": {
    "colab": {
     "base_uri": "https://localhost:8080/"
    },
    "id": "0LSSWzD6a-OD",
    "outputId": "81fc7f25-4e14-4c19-a2a0-1ebac6312e00"
   },
   "outputs": [
    {
     "name": "stdout",
     "output_type": "stream",
     "text": [
      "Number of rows: 85\n",
      "Number of columns: 17\n"
     ]
    }
   ],
   "source": [
    "print(\"Number of rows:\",df.shape[0])\n",
    "print(\"Number of columns:\",df.shape[1])"
   ]
  },
  {
   "cell_type": "code",
   "execution_count": 651,
   "metadata": {
    "colab": {
     "base_uri": "https://localhost:8080/"
    },
    "id": "TRrt59H2bdVB",
    "outputId": "4212cc77-b491-45a1-bf26-478c1a323ad4"
   },
   "outputs": [
    {
     "data": {
      "text/plain": [
       "Index(['Student Name',\n",
       "       'Using a scale 1 to 10, how much do you like action movies? (use decimals, e.g. 4.2)',\n",
       "       'Using a scale 1 to 10, how much do you like adventure movies? (use decimals, e.g. 4.2)',\n",
       "       'Using a scale 1 to 10, how much do you like comedy movies? (use decimals, e.g. 4.2)',\n",
       "       'Using a scale 1 to 10, how much do you like crime movies? (use decimals, e.g. 4.2)',\n",
       "       'Using a scale 1 to 10, how much do you like drama movies?',\n",
       "       'Using a scale 1 to 10, how much do you like fantasy movies?',\n",
       "       'Using a scale 1 to 10, how much do you like science fiction movies?',\n",
       "       'Using a scale 1 to 10, how much do you like horror movies?',\n",
       "       'Using a scale 1 to 10, how much do you like mystery movies?',\n",
       "       'Using a scale 1 to 10, how much do you like romance movies?',\n",
       "       'Using a scale 1 to 10, how much do you like thriller movies?',\n",
       "       'Using a scale 1 to 10, how much do you like documentary movies?',\n",
       "       'Using a scale 1 to 10, how much do you like animated movies?',\n",
       "       'On average, how many movies you watch on a single week',\n",
       "       'Which of the following movies you'd say is your preferred?',\n",
       "       'Describe yourself with 5 adjectives. For example:- Capable- Friendly- Happy- Sociable- Slow'],\n",
       "      dtype='object')"
      ]
     },
     "execution_count": 651,
     "metadata": {},
     "output_type": "execute_result"
    }
   ],
   "source": [
    "df.columns"
   ]
  },
  {
   "cell_type": "markdown",
   "metadata": {
    "id": "Q9P659Rolkxt"
   },
   "source": [
    "All the column names contain symbols, numbers and unwanted data, need to be cleaned."
   ]
  },
  {
   "cell_type": "code",
   "execution_count": 649,
   "metadata": {
    "colab": {
     "base_uri": "https://localhost:8080/"
    },
    "id": "InAPhqICbR_A",
    "outputId": "b2185ec8-6a59-4261-8640-a952a09c6465"
   },
   "outputs": [
    {
     "name": "stdout",
     "output_type": "stream",
     "text": [
      "<class 'pandas.core.frame.DataFrame'>\n",
      "RangeIndex: 85 entries, 0 to 84\n",
      "Data columns (total 17 columns):\n",
      " #   Column                                                                                       Non-Null Count  Dtype  \n",
      "---  ------                                                                                       --------------  -----  \n",
      " 0   Student Name                                                                                 85 non-null     object \n",
      " 1   Using a scale 1 to 10, how much do you like action movies? (use decimals, e.g. 4.2)          85 non-null     object \n",
      " 2   Using a scale 1 to 10, how much do you like adventure movies? (use decimals, e.g. 4.2)       84 non-null     object \n",
      " 3   Using a scale 1 to 10, how much do you like comedy movies? (use decimals, e.g. 4.2)          83 non-null     float64\n",
      " 4   Using a scale 1 to 10, how much do you like crime movies? (use decimals, e.g. 4.2)           83 non-null     float64\n",
      " 5   Using a scale 1 to 10, how much do you like drama movies?                                    83 non-null     float64\n",
      " 6   Using a scale 1 to 10, how much do you like fantasy movies?                                  82 non-null     float64\n",
      " 7   Using a scale 1 to 10, how much do you like science fiction movies?                          82 non-null     float64\n",
      " 8   Using a scale 1 to 10, how much do you like horror movies?                                   82 non-null     float64\n",
      " 9   Using a scale 1 to 10, how much do you like mystery movies?                                  81 non-null     float64\n",
      " 10  Using a scale 1 to 10, how much do you like romance movies?                                  82 non-null     float64\n",
      " 11  Using a scale 1 to 10, how much do you like thriller movies?                                 81 non-null     float64\n",
      " 12  Using a scale 1 to 10, how much do you like documentary movies?                              82 non-null     float64\n",
      " 13  Using a scale 1 to 10, how much do you like animated movies?                                 81 non-null     float64\n",
      " 14  On average, how many movies you watch on a single week                                       82 non-null     object \n",
      " 15  Which of the following movies you'd say is your preferred?                                   81 non-null     object \n",
      " 16  Describe yourself with 5 adjectives. For example:- Capable- Friendly- Happy- Sociable- Slow  77 non-null     object \n",
      "dtypes: float64(11), object(6)\n",
      "memory usage: 11.4+ KB\n"
     ]
    }
   ],
   "source": [
    "df.info()"
   ]
  },
  {
   "cell_type": "markdown",
   "metadata": {
    "id": "37_RTqJAlbEh"
   },
   "source": [
    "We have Null values in 15 columns both object and float type data. so we need replace null values with respective data."
   ]
  },
  {
   "cell_type": "code",
   "execution_count": 650,
   "metadata": {
    "colab": {
     "base_uri": "https://localhost:8080/",
     "height": 387
    },
    "id": "nzsBSBVlbVJr",
    "outputId": "ecd5a5b5-fbfe-4f86-ed0e-16a6cd826883"
   },
   "outputs": [
    {
     "data": {
      "text/html": [
       "\n",
       "  <div id=\"df-abbb12f1-6a72-45a8-8b9b-46f28fa71d6f\" class=\"colab-df-container\">\n",
       "    <div>\n",
       "<style scoped>\n",
       "    .dataframe tbody tr th:only-of-type {\n",
       "        vertical-align: middle;\n",
       "    }\n",
       "\n",
       "    .dataframe tbody tr th {\n",
       "        vertical-align: top;\n",
       "    }\n",
       "\n",
       "    .dataframe thead th {\n",
       "        text-align: right;\n",
       "    }\n",
       "</style>\n",
       "<table border=\"1\" class=\"dataframe\">\n",
       "  <thead>\n",
       "    <tr style=\"text-align: right;\">\n",
       "      <th></th>\n",
       "      <th>Using a scale 1 to 10, how much do you like comedy movies? (use decimals, e.g. 4.2)</th>\n",
       "      <th>Using a scale 1 to 10, how much do you like crime movies? (use decimals, e.g. 4.2)</th>\n",
       "      <th>Using a scale 1 to 10, how much do you like drama movies?</th>\n",
       "      <th>Using a scale 1 to 10, how much do you like fantasy movies?</th>\n",
       "      <th>Using a scale 1 to 10, how much do you like science fiction movies?</th>\n",
       "      <th>Using a scale 1 to 10, how much do you like horror movies?</th>\n",
       "      <th>Using a scale 1 to 10, how much do you like mystery movies?</th>\n",
       "      <th>Using a scale 1 to 10, how much do you like romance movies?</th>\n",
       "      <th>Using a scale 1 to 10, how much do you like thriller movies?</th>\n",
       "      <th>Using a scale 1 to 10, how much do you like documentary movies?</th>\n",
       "      <th>Using a scale 1 to 10, how much do you like animated movies?</th>\n",
       "    </tr>\n",
       "  </thead>\n",
       "  <tbody>\n",
       "    <tr>\n",
       "      <th>count</th>\n",
       "      <td>83.000000</td>\n",
       "      <td>83.000000</td>\n",
       "      <td>83.000000</td>\n",
       "      <td>82.000000</td>\n",
       "      <td>82.000000</td>\n",
       "      <td>82.000000</td>\n",
       "      <td>81.000000</td>\n",
       "      <td>82.000000</td>\n",
       "      <td>81.000000</td>\n",
       "      <td>82.000000</td>\n",
       "      <td>81.000000</td>\n",
       "    </tr>\n",
       "    <tr>\n",
       "      <th>mean</th>\n",
       "      <td>8.423240</td>\n",
       "      <td>1212.749639</td>\n",
       "      <td>6.855301</td>\n",
       "      <td>7.271220</td>\n",
       "      <td>8.387195</td>\n",
       "      <td>6.748170</td>\n",
       "      <td>7.993827</td>\n",
       "      <td>7.184390</td>\n",
       "      <td>20.445556</td>\n",
       "      <td>6.590122</td>\n",
       "      <td>7.052963</td>\n",
       "    </tr>\n",
       "    <tr>\n",
       "      <th>std</th>\n",
       "      <td>1.542735</td>\n",
       "      <td>10975.545086</td>\n",
       "      <td>2.331890</td>\n",
       "      <td>2.351857</td>\n",
       "      <td>1.794819</td>\n",
       "      <td>2.947948</td>\n",
       "      <td>1.817835</td>\n",
       "      <td>3.123678</td>\n",
       "      <td>110.221002</td>\n",
       "      <td>2.497070</td>\n",
       "      <td>2.567645</td>\n",
       "    </tr>\n",
       "    <tr>\n",
       "      <th>min</th>\n",
       "      <td>3.000000</td>\n",
       "      <td>2.500000</td>\n",
       "      <td>2.200000</td>\n",
       "      <td>0.000000</td>\n",
       "      <td>2.000000</td>\n",
       "      <td>0.000000</td>\n",
       "      <td>1.200000</td>\n",
       "      <td>-10.000000</td>\n",
       "      <td>1.000000</td>\n",
       "      <td>1.000000</td>\n",
       "      <td>0.000000</td>\n",
       "    </tr>\n",
       "    <tr>\n",
       "      <th>25%</th>\n",
       "      <td>7.900000</td>\n",
       "      <td>7.250000</td>\n",
       "      <td>5.000000</td>\n",
       "      <td>6.275000</td>\n",
       "      <td>8.000000</td>\n",
       "      <td>5.000000</td>\n",
       "      <td>7.500000</td>\n",
       "      <td>6.125000</td>\n",
       "      <td>7.800000</td>\n",
       "      <td>5.000000</td>\n",
       "      <td>5.000000</td>\n",
       "    </tr>\n",
       "    <tr>\n",
       "      <th>50%</th>\n",
       "      <td>8.900000</td>\n",
       "      <td>8.500000</td>\n",
       "      <td>7.000000</td>\n",
       "      <td>7.750000</td>\n",
       "      <td>8.800000</td>\n",
       "      <td>7.550000</td>\n",
       "      <td>8.250000</td>\n",
       "      <td>7.850000</td>\n",
       "      <td>9.000000</td>\n",
       "      <td>7.000000</td>\n",
       "      <td>7.900000</td>\n",
       "    </tr>\n",
       "    <tr>\n",
       "      <th>75%</th>\n",
       "      <td>9.950000</td>\n",
       "      <td>9.900000</td>\n",
       "      <td>8.550000</td>\n",
       "      <td>9.000000</td>\n",
       "      <td>9.875000</td>\n",
       "      <td>9.000000</td>\n",
       "      <td>9.000000</td>\n",
       "      <td>9.425000</td>\n",
       "      <td>10.000000</td>\n",
       "      <td>8.150000</td>\n",
       "      <td>9.000000</td>\n",
       "    </tr>\n",
       "    <tr>\n",
       "      <th>max</th>\n",
       "      <td>10.000000</td>\n",
       "      <td>100000.000000</td>\n",
       "      <td>12.000000</td>\n",
       "      <td>10.000000</td>\n",
       "      <td>11.000000</td>\n",
       "      <td>10.000000</td>\n",
       "      <td>10.000000</td>\n",
       "      <td>10.000000</td>\n",
       "      <td>1000.000000</td>\n",
       "      <td>10.000000</td>\n",
       "      <td>10.500000</td>\n",
       "    </tr>\n",
       "  </tbody>\n",
       "</table>\n",
       "</div>\n",
       "    <div class=\"colab-df-buttons\">\n",
       "\n",
       "  <div class=\"colab-df-container\">\n",
       "    <button class=\"colab-df-convert\" onclick=\"convertToInteractive('df-abbb12f1-6a72-45a8-8b9b-46f28fa71d6f')\"\n",
       "            title=\"Convert this dataframe to an interactive table.\"\n",
       "            style=\"display:none;\">\n",
       "\n",
       "  <svg xmlns=\"http://www.w3.org/2000/svg\" height=\"24px\" viewBox=\"0 -960 960 960\">\n",
       "    <path d=\"M120-120v-720h720v720H120Zm60-500h600v-160H180v160Zm220 220h160v-160H400v160Zm0 220h160v-160H400v160ZM180-400h160v-160H180v160Zm440 0h160v-160H620v160ZM180-180h160v-160H180v160Zm440 0h160v-160H620v160Z\"/>\n",
       "  </svg>\n",
       "    </button>\n",
       "\n",
       "  <style>\n",
       "    .colab-df-container {\n",
       "      display:flex;\n",
       "      gap: 12px;\n",
       "    }\n",
       "\n",
       "    .colab-df-convert {\n",
       "      background-color: #E8F0FE;\n",
       "      border: none;\n",
       "      border-radius: 50%;\n",
       "      cursor: pointer;\n",
       "      display: none;\n",
       "      fill: #1967D2;\n",
       "      height: 32px;\n",
       "      padding: 0 0 0 0;\n",
       "      width: 32px;\n",
       "    }\n",
       "\n",
       "    .colab-df-convert:hover {\n",
       "      background-color: #E2EBFA;\n",
       "      box-shadow: 0px 1px 2px rgba(60, 64, 67, 0.3), 0px 1px 3px 1px rgba(60, 64, 67, 0.15);\n",
       "      fill: #174EA6;\n",
       "    }\n",
       "\n",
       "    .colab-df-buttons div {\n",
       "      margin-bottom: 4px;\n",
       "    }\n",
       "\n",
       "    [theme=dark] .colab-df-convert {\n",
       "      background-color: #3B4455;\n",
       "      fill: #D2E3FC;\n",
       "    }\n",
       "\n",
       "    [theme=dark] .colab-df-convert:hover {\n",
       "      background-color: #434B5C;\n",
       "      box-shadow: 0px 1px 3px 1px rgba(0, 0, 0, 0.15);\n",
       "      filter: drop-shadow(0px 1px 2px rgba(0, 0, 0, 0.3));\n",
       "      fill: #FFFFFF;\n",
       "    }\n",
       "  </style>\n",
       "\n",
       "    <script>\n",
       "      const buttonEl =\n",
       "        document.querySelector('#df-abbb12f1-6a72-45a8-8b9b-46f28fa71d6f button.colab-df-convert');\n",
       "      buttonEl.style.display =\n",
       "        google.colab.kernel.accessAllowed ? 'block' : 'none';\n",
       "\n",
       "      async function convertToInteractive(key) {\n",
       "        const element = document.querySelector('#df-abbb12f1-6a72-45a8-8b9b-46f28fa71d6f');\n",
       "        const dataTable =\n",
       "          await google.colab.kernel.invokeFunction('convertToInteractive',\n",
       "                                                    [key], {});\n",
       "        if (!dataTable) return;\n",
       "\n",
       "        const docLinkHtml = 'Like what you see? Visit the ' +\n",
       "          '<a target=\"_blank\" href=https://colab.research.google.com/notebooks/data_table.ipynb>data table notebook</a>'\n",
       "          + ' to learn more about interactive tables.';\n",
       "        element.innerHTML = '';\n",
       "        dataTable['output_type'] = 'display_data';\n",
       "        await google.colab.output.renderOutput(dataTable, element);\n",
       "        const docLink = document.createElement('div');\n",
       "        docLink.innerHTML = docLinkHtml;\n",
       "        element.appendChild(docLink);\n",
       "      }\n",
       "    </script>\n",
       "  </div>\n",
       "\n",
       "\n",
       "<div id=\"df-4bcd1aed-1d92-495f-9877-c6d73c41ce71\">\n",
       "  <button class=\"colab-df-quickchart\" onclick=\"quickchart('df-4bcd1aed-1d92-495f-9877-c6d73c41ce71')\"\n",
       "            title=\"Suggest charts.\"\n",
       "            style=\"display:none;\">\n",
       "\n",
       "<svg xmlns=\"http://www.w3.org/2000/svg\" height=\"24px\"viewBox=\"0 0 24 24\"\n",
       "     width=\"24px\">\n",
       "    <g>\n",
       "        <path d=\"M19 3H5c-1.1 0-2 .9-2 2v14c0 1.1.9 2 2 2h14c1.1 0 2-.9 2-2V5c0-1.1-.9-2-2-2zM9 17H7v-7h2v7zm4 0h-2V7h2v10zm4 0h-2v-4h2v4z\"/>\n",
       "    </g>\n",
       "</svg>\n",
       "  </button>\n",
       "\n",
       "<style>\n",
       "  .colab-df-quickchart {\n",
       "      --bg-color: #E8F0FE;\n",
       "      --fill-color: #1967D2;\n",
       "      --hover-bg-color: #E2EBFA;\n",
       "      --hover-fill-color: #174EA6;\n",
       "      --disabled-fill-color: #AAA;\n",
       "      --disabled-bg-color: #DDD;\n",
       "  }\n",
       "\n",
       "  [theme=dark] .colab-df-quickchart {\n",
       "      --bg-color: #3B4455;\n",
       "      --fill-color: #D2E3FC;\n",
       "      --hover-bg-color: #434B5C;\n",
       "      --hover-fill-color: #FFFFFF;\n",
       "      --disabled-bg-color: #3B4455;\n",
       "      --disabled-fill-color: #666;\n",
       "  }\n",
       "\n",
       "  .colab-df-quickchart {\n",
       "    background-color: var(--bg-color);\n",
       "    border: none;\n",
       "    border-radius: 50%;\n",
       "    cursor: pointer;\n",
       "    display: none;\n",
       "    fill: var(--fill-color);\n",
       "    height: 32px;\n",
       "    padding: 0;\n",
       "    width: 32px;\n",
       "  }\n",
       "\n",
       "  .colab-df-quickchart:hover {\n",
       "    background-color: var(--hover-bg-color);\n",
       "    box-shadow: 0 1px 2px rgba(60, 64, 67, 0.3), 0 1px 3px 1px rgba(60, 64, 67, 0.15);\n",
       "    fill: var(--button-hover-fill-color);\n",
       "  }\n",
       "\n",
       "  .colab-df-quickchart-complete:disabled,\n",
       "  .colab-df-quickchart-complete:disabled:hover {\n",
       "    background-color: var(--disabled-bg-color);\n",
       "    fill: var(--disabled-fill-color);\n",
       "    box-shadow: none;\n",
       "  }\n",
       "\n",
       "  .colab-df-spinner {\n",
       "    border: 2px solid var(--fill-color);\n",
       "    border-color: transparent;\n",
       "    border-bottom-color: var(--fill-color);\n",
       "    animation:\n",
       "      spin 1s steps(1) infinite;\n",
       "  }\n",
       "\n",
       "  @keyframes spin {\n",
       "    0% {\n",
       "      border-color: transparent;\n",
       "      border-bottom-color: var(--fill-color);\n",
       "      border-left-color: var(--fill-color);\n",
       "    }\n",
       "    20% {\n",
       "      border-color: transparent;\n",
       "      border-left-color: var(--fill-color);\n",
       "      border-top-color: var(--fill-color);\n",
       "    }\n",
       "    30% {\n",
       "      border-color: transparent;\n",
       "      border-left-color: var(--fill-color);\n",
       "      border-top-color: var(--fill-color);\n",
       "      border-right-color: var(--fill-color);\n",
       "    }\n",
       "    40% {\n",
       "      border-color: transparent;\n",
       "      border-right-color: var(--fill-color);\n",
       "      border-top-color: var(--fill-color);\n",
       "    }\n",
       "    60% {\n",
       "      border-color: transparent;\n",
       "      border-right-color: var(--fill-color);\n",
       "    }\n",
       "    80% {\n",
       "      border-color: transparent;\n",
       "      border-right-color: var(--fill-color);\n",
       "      border-bottom-color: var(--fill-color);\n",
       "    }\n",
       "    90% {\n",
       "      border-color: transparent;\n",
       "      border-bottom-color: var(--fill-color);\n",
       "    }\n",
       "  }\n",
       "</style>\n",
       "\n",
       "  <script>\n",
       "    async function quickchart(key) {\n",
       "      const quickchartButtonEl =\n",
       "        document.querySelector('#' + key + ' button');\n",
       "      quickchartButtonEl.disabled = true;  // To prevent multiple clicks.\n",
       "      quickchartButtonEl.classList.add('colab-df-spinner');\n",
       "      try {\n",
       "        const charts = await google.colab.kernel.invokeFunction(\n",
       "            'suggestCharts', [key], {});\n",
       "      } catch (error) {\n",
       "        console.error('Error during call to suggestCharts:', error);\n",
       "      }\n",
       "      quickchartButtonEl.classList.remove('colab-df-spinner');\n",
       "      quickchartButtonEl.classList.add('colab-df-quickchart-complete');\n",
       "    }\n",
       "    (() => {\n",
       "      let quickchartButtonEl =\n",
       "        document.querySelector('#df-4bcd1aed-1d92-495f-9877-c6d73c41ce71 button');\n",
       "      quickchartButtonEl.style.display =\n",
       "        google.colab.kernel.accessAllowed ? 'block' : 'none';\n",
       "    })();\n",
       "  </script>\n",
       "</div>\n",
       "    </div>\n",
       "  </div>\n"
      ],
      "text/plain": [
       "       Using a scale 1 to 10, how much do you like comedy movies? (use decimals, e.g. 4.2)  \\\n",
       "count                                          83.000000                                     \n",
       "mean                                            8.423240                                     \n",
       "std                                             1.542735                                     \n",
       "min                                             3.000000                                     \n",
       "25%                                             7.900000                                     \n",
       "50%                                             8.900000                                     \n",
       "75%                                             9.950000                                     \n",
       "max                                            10.000000                                     \n",
       "\n",
       "       Using a scale 1 to 10, how much do you like crime movies? (use decimals, e.g. 4.2)  \\\n",
       "count                                          83.000000                                    \n",
       "mean                                         1212.749639                                    \n",
       "std                                         10975.545086                                    \n",
       "min                                             2.500000                                    \n",
       "25%                                             7.250000                                    \n",
       "50%                                             8.500000                                    \n",
       "75%                                             9.900000                                    \n",
       "max                                        100000.000000                                    \n",
       "\n",
       "       Using a scale 1 to 10, how much do you like drama movies?  \\\n",
       "count                                          83.000000           \n",
       "mean                                            6.855301           \n",
       "std                                             2.331890           \n",
       "min                                             2.200000           \n",
       "25%                                             5.000000           \n",
       "50%                                             7.000000           \n",
       "75%                                             8.550000           \n",
       "max                                            12.000000           \n",
       "\n",
       "       Using a scale 1 to 10, how much do you like fantasy movies?  \\\n",
       "count                                          82.000000             \n",
       "mean                                            7.271220             \n",
       "std                                             2.351857             \n",
       "min                                             0.000000             \n",
       "25%                                             6.275000             \n",
       "50%                                             7.750000             \n",
       "75%                                             9.000000             \n",
       "max                                            10.000000             \n",
       "\n",
       "       Using a scale 1 to 10, how much do you like science fiction movies?  \\\n",
       "count                                          82.000000                     \n",
       "mean                                            8.387195                     \n",
       "std                                             1.794819                     \n",
       "min                                             2.000000                     \n",
       "25%                                             8.000000                     \n",
       "50%                                             8.800000                     \n",
       "75%                                             9.875000                     \n",
       "max                                            11.000000                     \n",
       "\n",
       "       Using a scale 1 to 10, how much do you like horror movies?  \\\n",
       "count                                          82.000000            \n",
       "mean                                            6.748170            \n",
       "std                                             2.947948            \n",
       "min                                             0.000000            \n",
       "25%                                             5.000000            \n",
       "50%                                             7.550000            \n",
       "75%                                             9.000000            \n",
       "max                                            10.000000            \n",
       "\n",
       "       Using a scale 1 to 10, how much do you like mystery movies?  \\\n",
       "count                                          81.000000             \n",
       "mean                                            7.993827             \n",
       "std                                             1.817835             \n",
       "min                                             1.200000             \n",
       "25%                                             7.500000             \n",
       "50%                                             8.250000             \n",
       "75%                                             9.000000             \n",
       "max                                            10.000000             \n",
       "\n",
       "       Using a scale 1 to 10, how much do you like romance movies?  \\\n",
       "count                                          82.000000             \n",
       "mean                                            7.184390             \n",
       "std                                             3.123678             \n",
       "min                                           -10.000000             \n",
       "25%                                             6.125000             \n",
       "50%                                             7.850000             \n",
       "75%                                             9.425000             \n",
       "max                                            10.000000             \n",
       "\n",
       "       Using a scale 1 to 10, how much do you like thriller movies?  \\\n",
       "count                                          81.000000              \n",
       "mean                                           20.445556              \n",
       "std                                           110.221002              \n",
       "min                                             1.000000              \n",
       "25%                                             7.800000              \n",
       "50%                                             9.000000              \n",
       "75%                                            10.000000              \n",
       "max                                          1000.000000              \n",
       "\n",
       "       Using a scale 1 to 10, how much do you like documentary movies?  \\\n",
       "count                                          82.000000                 \n",
       "mean                                            6.590122                 \n",
       "std                                             2.497070                 \n",
       "min                                             1.000000                 \n",
       "25%                                             5.000000                 \n",
       "50%                                             7.000000                 \n",
       "75%                                             8.150000                 \n",
       "max                                            10.000000                 \n",
       "\n",
       "       Using a scale 1 to 10, how much do you like animated movies?  \n",
       "count                                          81.000000             \n",
       "mean                                            7.052963             \n",
       "std                                             2.567645             \n",
       "min                                             0.000000             \n",
       "25%                                             5.000000             \n",
       "50%                                             7.900000             \n",
       "75%                                             9.000000             \n",
       "max                                            10.500000             "
      ]
     },
     "execution_count": 650,
     "metadata": {},
     "output_type": "execute_result"
    }
   ],
   "source": [
    "df.describe()"
   ]
  },
  {
   "cell_type": "markdown",
   "metadata": {
    "id": "Ih_jcTxkbt5y"
   },
   "source": [
    "As our data contains data greater than 0 and less than 10. There are outlier in 5 Columns which can be derived from min and max values in each column."
   ]
  },
  {
   "cell_type": "markdown",
   "metadata": {
    "id": "4OxHTEhVbwq2"
   },
   "source": [
    "# Data Cleaning"
   ]
  },
  {
   "cell_type": "code",
   "execution_count": 652,
   "metadata": {
    "id": "SKJn6kssb1XX"
   },
   "outputs": [],
   "source": [
    "df.columns = df.columns.str.replace(r'Using a scale 1 to 10, how much do you like ', '')\n",
    "df.columns = df.columns.str.replace(r'(use decimals, e.g. 4.2)', '')\n",
    "df.columns = df.columns.str.replace(r'?', '')\n",
    "df.columns = df.columns.str.replace(r'On average, how many movies you watch on a single week', 'Average Movies per Week')\n",
    "df.columns = df.columns.str.replace(r\"Which of the following movies you'd say is your preferred\", 'Best Movies')\n",
    "df.columns = df.columns.str.replace(r\"Describe yourself with 5 adjectives. For example:- Capable- Friendly- Happy- Sociable- Slow\", 'Adjective')\n",
    "df.columns = df.columns.str.replace(r'(', '')\n",
    "df.columns = df.columns.str.replace(r')', '')\n",
    "df.columns = df.columns.str.replace(r' ', '_')"
   ]
  },
  {
   "cell_type": "markdown",
   "metadata": {
    "id": "_LB01jd9nM8O"
   },
   "source": [
    "All the symbols and unwanted data is removed from all the column names."
   ]
  },
  {
   "cell_type": "code",
   "execution_count": 653,
   "metadata": {
    "colab": {
     "base_uri": "https://localhost:8080/"
    },
    "id": "S3XrrcUuc5rp",
    "outputId": "a2926448-77f4-498a-bc98-65b931e81c55"
   },
   "outputs": [
    {
     "data": {
      "text/plain": [
       "Index(['Student_Name', 'action_movies_', 'adventure_movies_', 'comedy_movies_',\n",
       "       'crime_movies_', 'drama_movies', 'fantasy_movies',\n",
       "       'science_fiction_movies', 'horror_movies', 'mystery_movies',\n",
       "       'romance_movies', 'thriller_movies', 'documentary_movies',\n",
       "       'animated_movies', 'Average_Movies_per_Week', 'Best_Movies',\n",
       "       'Adjective'],\n",
       "      dtype='object')"
      ]
     },
     "execution_count": 653,
     "metadata": {},
     "output_type": "execute_result"
    }
   ],
   "source": [
    "df.info()"
   ]
  },
  {
   "cell_type": "markdown",
   "metadata": {
    "id": "pHK7dx74nae-"
   },
   "source": [
    "Though data 'action_movies' and 'adventure_movies' contain rating from 1 to 10, butdata is showing objective type. we will verify data in each column to understand better."
   ]
  },
  {
   "cell_type": "code",
   "execution_count": 656,
   "metadata": {
    "colab": {
     "base_uri": "https://localhost:8080/"
    },
    "id": "2YgXWiME0g7H",
    "outputId": "44b665e3-8c49-4d68-f219-dc71c3ef8884"
   },
   "outputs": [
    {
     "data": {
      "text/plain": [
       "array(['7.5', '7', '4.6', '3.5', '9', '10', '8.0', '6', '8.5', '9.5',\n",
       "       '6.3', '4.2', '5', '8', '10.0', '8.2', '9.8', '6.7',\n",
       "       'who knows man', '6.5', '7.8', '9.7', '9.9', '5.6', '2.1'],\n",
       "      dtype=object)"
      ]
     },
     "execution_count": 656,
     "metadata": {},
     "output_type": "execute_result"
    }
   ],
   "source": [
    "df['action_movies_'].unique()"
   ]
  },
  {
   "cell_type": "markdown",
   "metadata": {
    "id": "nIm-1sBVntQh"
   },
   "source": [
    "We have one objective type data we will replace data with nan, convert object type to numeric type and then replace the data with mean."
   ]
  },
  {
   "cell_type": "code",
   "execution_count": 657,
   "metadata": {
    "colab": {
     "base_uri": "https://localhost:8080/"
    },
    "id": "Z8mpEwgT2_3s",
    "outputId": "c8655cbf-bb10-402c-8b04-1e32ab83f3c1"
   },
   "outputs": [
    {
     "data": {
      "text/plain": [
       "array(['6.5', '5', '7.4', '8', '7.8', '7.5', '9', '5.5', '8.4', '6',\n",
       "       '8.5', '7', '9.2', '8.3', '3', '10', '6.8', '6.3', '6.4', '10.1',\n",
       "       '9.3', '9.58', '8.9', '7.9', 'idk', '6.1', '8.2', nan, '7.2',\n",
       "       '5.3', '9.9'], dtype=object)"
      ]
     },
     "execution_count": 657,
     "metadata": {},
     "output_type": "execute_result"
    }
   ],
   "source": [
    "df['adventure_movies_'].unique()"
   ]
  },
  {
   "cell_type": "markdown",
   "metadata": {
    "id": "65LtV4M-oAia"
   },
   "source": [
    "We have one objective data and one null value. we will replace data with nan, convert object type to numeric type and then replace the data with mean."
   ]
  },
  {
   "cell_type": "code",
   "execution_count": 658,
   "metadata": {
    "id": "0cJ5vXJr0mQ_"
   },
   "outputs": [],
   "source": [
    "df['action_movies_'] = df['action_movies_'].replace('who knows man', np.nan)\n",
    "df['action_movies_'] = pd.to_numeric(df['action_movies_'])\n",
    "\n",
    "\n",
    "mean_value = df['action_movies_'].mean()\n",
    "df['action_movies_'].fillna(mean_value, inplace=True)"
   ]
  },
  {
   "cell_type": "markdown",
   "metadata": {
    "id": "rSABYpR-oN38"
   },
   "source": [
    "'Average_Movies_per_Week', 'Adjective', 'Best_Movies' columns data have null values we will first fill null values by method \"ffill\"."
   ]
  },
  {
   "cell_type": "code",
   "execution_count": 661,
   "metadata": {
    "id": "UWWIGbcWgPJZ"
   },
   "outputs": [],
   "source": [
    "df['Average_Movies_per_Week'].fillna( method ='ffill', inplace = True)\n",
    "df['Best_Movies'].fillna( method ='ffill', inplace = True)\n",
    "df['Adjective'].fillna( method ='ffill', inplace = True)"
   ]
  },
  {
   "cell_type": "markdown",
   "metadata": {
    "id": "ZXyZpzVQo_-A"
   },
   "source": [
    "Fill all float type column data with mean of each column."
   ]
  },
  {
   "cell_type": "code",
   "execution_count": 662,
   "metadata": {
    "id": "7S_0D56q4MmD"
   },
   "outputs": [],
   "source": [
    "col = ['comedy_movies_',\n",
    "       'crime_movies_', 'drama_movies', 'fantasy_movies',\n",
    "       'science_fiction_movies', 'horror_movies', 'mystery_movies',\n",
    "       'romance_movies', 'thriller_movies', 'documentary_movies',\n",
    "       'animated_movies']\n",
    "\n",
    "for i in col:\n",
    "  df[i].fillna(df[i].mean(),inplace=True)"
   ]
  },
  {
   "cell_type": "code",
   "execution_count": 663,
   "metadata": {
    "id": "ktYzfUY-HjTR"
   },
   "outputs": [],
   "source": [
    "X = df['Best_Movies']"
   ]
  },
  {
   "cell_type": "code",
   "execution_count": 666,
   "metadata": {
    "id": "MCWNV1Cwetxk"
   },
   "outputs": [],
   "source": [
    "df['Adjective'] = df['Adjective'].str.replace('\\n- ', ', ',).str.strip('- ')\n",
    "df['Adjective'] = df['Adjective'].str.replace('\\n\\n- ', ', ').str.strip('- ')\n",
    "df['Adjective'] = df['Adjective'].str.replace('\\n', ', ')"
   ]
  },
  {
   "cell_type": "code",
   "execution_count": 667,
   "metadata": {
    "id": "E_vIZOQ4c7Ya"
   },
   "outputs": [],
   "source": [
    "df[['Ad1', 'Ad2', 'Ad3', 'Ad4', 'Ad5']] = df['Adjective'].str.split(',', 4,expand=True)\n",
    "df = df.drop('Adjective', axis=1)"
   ]
  },
  {
   "cell_type": "code",
   "execution_count": 668,
   "metadata": {
    "id": "rz-5RHWU-WU8"
   },
   "outputs": [],
   "source": [
    "df['Ad1'] = df['Ad1'].replace('I am very friendly and capable of doing things.', np.nan)\n",
    "df['Ad1'] = df['Ad1'].replace('Hi', np.nan)"
   ]
  },
  {
   "cell_type": "code",
   "execution_count": 669,
   "metadata": {
    "id": "FBEzWa42_LL-"
   },
   "outputs": [],
   "source": [
    "df['Ad1'].fillna( method ='ffill', inplace = True)\n",
    "df['Ad2'].fillna( method ='ffill', inplace = True)\n",
    "df['Ad3'].fillna( method ='ffill', inplace = True)\n",
    "df['Ad4'].fillna( method ='ffill', inplace = True)\n",
    "df['Ad5'].fillna( method ='ffill', inplace = True)"
   ]
  },
  {
   "cell_type": "code",
   "execution_count": 670,
   "metadata": {
    "colab": {
     "base_uri": "https://localhost:8080/"
    },
    "id": "3njD04HN_UUz",
    "outputId": "80922436-817a-417c-85ba-163d3df5961d"
   },
   "outputs": [
    {
     "name": "stdout",
     "output_type": "stream",
     "text": [
      "<class 'pandas.core.frame.DataFrame'>\n",
      "RangeIndex: 85 entries, 0 to 84\n",
      "Data columns (total 21 columns):\n",
      " #   Column                   Non-Null Count  Dtype  \n",
      "---  ------                   --------------  -----  \n",
      " 0   Student_Name             85 non-null     object \n",
      " 1   action_movies_           85 non-null     float64\n",
      " 2   adventure_movies_        85 non-null     float64\n",
      " 3   comedy_movies_           85 non-null     float64\n",
      " 4   crime_movies_            85 non-null     float64\n",
      " 5   drama_movies             85 non-null     float64\n",
      " 6   fantasy_movies           85 non-null     float64\n",
      " 7   science_fiction_movies   85 non-null     float64\n",
      " 8   horror_movies            85 non-null     float64\n",
      " 9   mystery_movies           85 non-null     float64\n",
      " 10  romance_movies           85 non-null     float64\n",
      " 11  thriller_movies          85 non-null     float64\n",
      " 12  documentary_movies       85 non-null     float64\n",
      " 13  animated_movies          85 non-null     float64\n",
      " 14  Average_Movies_per_Week  85 non-null     object \n",
      " 15  Best_Movies              85 non-null     object \n",
      " 16  Ad1                      85 non-null     object \n",
      " 17  Ad2                      85 non-null     object \n",
      " 18  Ad3                      85 non-null     object \n",
      " 19  Ad4                      85 non-null     object \n",
      " 20  Ad5                      85 non-null     object \n",
      "dtypes: float64(13), object(8)\n",
      "memory usage: 14.1+ KB\n"
     ]
    }
   ],
   "source": [
    "df.info()"
   ]
  },
  {
   "cell_type": "code",
   "execution_count": 671,
   "metadata": {
    "colab": {
     "base_uri": "https://localhost:8080/"
    },
    "id": "UIbD9ptdmYl2",
    "outputId": "deb8e21c-91eb-4829-da43-6bbdfbfe0722"
   },
   "outputs": [
    {
     "data": {
      "text/plain": [
       "array(['C. 3) Two movies a week',\n",
       "       \"A. 1) zero movies. I don't watch movies\",\n",
       "       'B. 2) One movie a week',\n",
       "       \"A. 1) zero movies. I don't watch movies\\nB. 2) One movie a week\",\n",
       "       'D. 4) Three to four movies a week\\nE. 5) More than 4 movies a week',\n",
       "       'D. 4) Three to four movies a week',\n",
       "       'E. 5) More than 4 movies a week',\n",
       "       'B. 2) One movie a week\\nC. 3) Two movies a week',\n",
       "       'C. 3) Two movies a week\\nD. 4) Three to four movies a week\\nE. 5) More than 4 movies a week'],\n",
       "      dtype=object)"
      ]
     },
     "execution_count": 671,
     "metadata": {},
     "output_type": "execute_result"
    }
   ],
   "source": [
    "df.Average_Movies_per_Week.unique()"
   ]
  },
  {
   "cell_type": "markdown",
   "metadata": {
    "id": "ae4ukqtQpJAX"
   },
   "source": [
    "The data in 'Average_Movies_per_Week' should one option in each instance but some instances have multiple options. we will select the first option in multiple options. We will replace the data as selected option."
   ]
  },
  {
   "cell_type": "code",
   "execution_count": 672,
   "metadata": {
    "id": "fCWsX1cq_qKe"
   },
   "outputs": [],
   "source": [
    "df['Average_Movies_per_Week'] = df['Average_Movies_per_Week'].replace(\"C. 3) Two movies a week\", 'C')\n",
    "df['Average_Movies_per_Week'] = df['Average_Movies_per_Week'].replace(\"A. 1) zero movies. I don't watch movies\", 'A')\n",
    "df['Average_Movies_per_Week'] = df['Average_Movies_per_Week'].replace(\"B. 2) One movie a week\", 'B')\n",
    "df['Average_Movies_per_Week'] = df['Average_Movies_per_Week'].replace(\"A. 1) zero movies. I don't watch movies\\nB. 2) One movie a week\", 'A')\n",
    "df['Average_Movies_per_Week'] = df['Average_Movies_per_Week'].replace(\"D. 4) Three to four movies a week\\nE. 5) More than 4 movies a week\", 'D')\n",
    "df['Average_Movies_per_Week'] = df['Average_Movies_per_Week'].replace(\"D. 4) Three to four movies a week\", 'D')\n",
    "df['Average_Movies_per_Week'] = df['Average_Movies_per_Week'].replace(\"E. 5) More than 4 movies a week\", 'E')\n",
    "df['Average_Movies_per_Week'] = df['Average_Movies_per_Week'].replace(\"B. 2) One movie a week\\nC. 3) Two movies a week\", 'B')\n",
    "df['Average_Movies_per_Week'] = df['Average_Movies_per_Week'].replace(\"C. 3) Two movies a week\\nD. 4) Three to four movies a week\\nE. 5) More than 4 movies a week\", 'C')"
   ]
  },
  {
   "cell_type": "code",
   "execution_count": 673,
   "metadata": {
    "colab": {
     "base_uri": "https://localhost:8080/"
    },
    "id": "8rzmy7jaCbc2",
    "outputId": "cb2c4a24-f1f5-4e31-cb44-4818536fdcf7"
   },
   "outputs": [
    {
     "data": {
      "text/plain": [
       "array(['C', 'A', 'B', 'D', 'E'], dtype=object)"
      ]
     },
     "execution_count": 673,
     "metadata": {},
     "output_type": "execute_result"
    }
   ],
   "source": [
    "df.Average_Movies_per_Week.unique()"
   ]
  },
  {
   "cell_type": "markdown",
   "metadata": {
    "id": "YGBqcVrlqkGN"
   },
   "source": [
    "Now we will try to understand Most preferred movie by find the text of movie in all data."
   ]
  },
  {
   "cell_type": "code",
   "execution_count": 675,
   "metadata": {
    "colab": {
     "base_uri": "https://localhost:8080/"
    },
    "id": "P_Irc2QcDwam",
    "outputId": "a2cf2099-75ec-4f14-da53-cfb09262dbb6"
   },
   "outputs": [
    {
     "name": "stdout",
     "output_type": "stream",
     "text": [
      "Spiderman Movie Count: 51, Per: 0.3\n",
      "Gladiator Movie Count: 22, Per: 0.12941176470588237\n",
      "Jurassic Park Movie Count: 31, Per: 0.18235294117647058\n",
      "Star Wars Movie Count: 30, Per: 0.17647058823529413\n",
      "Mulan Movie Count: 15, Per: 0.08823529411764706\n",
      "Sherk Movie Count: 14, Per: 0.08235294117647059\n",
      "Hamilton Movie Count: 7, Per: 0.041176470588235294\n"
     ]
    }
   ],
   "source": [
    "df['Spiderman'] = df['Best_Movies'].str.contains(\"Spiderman\")\n",
    "df['Spiderman'] = df['Spiderman'].replace({True: 'Yes', False: 'No'})\n",
    "\n",
    "df['Gladiator'] = df['Best_Movies'].str.contains(\"Gladiator\")\n",
    "df['Gladiator'] = df['Gladiator'].replace({True: 'Yes', False: 'No'})\n",
    "\n",
    "df['Jurassic Park'] = df['Best_Movies'].str.contains(\"Jurassic Park\")\n",
    "df['Jurassic Park'] = df['Jurassic Park'].replace({True: 'Yes', False: 'No'})\n",
    "\n",
    "df['Star Wars'] = df['Best_Movies'].str.contains(\"Star Wars\")\n",
    "df['Star Wars'] = df['Star Wars'].replace({True: 'Yes', False: 'No'})\n",
    "\n",
    "df['Mulan'] = df['Best_Movies'].str.contains(\"Mulan\")\n",
    "df['Mulan'] = df['Mulan'].replace({True: 'Yes', False: 'No'})\n",
    "\n",
    "df['Shrek'] = df['Best_Movies'].str.contains(\"Shrek\")\n",
    "df['Shrek'] = df['Shrek'].replace({True: 'Yes', False: 'No'})\n",
    "\n",
    "df['Hamilton'] = df['Best_Movies'].str.contains(\"Hamilton\")\n",
    "df['Hamilton'] = df['Hamilton'].replace({True: 'Yes', False: 'No'})\n",
    "\n",
    "print(f\"Spiderman Movie Count: {df['Spiderman'].value_counts().get('Yes', 0)}, Per: {df['Spiderman'].value_counts().get('Yes', 0)/170}\")\n",
    "print(f\"Gladiator Movie Count: {df['Gladiator'].value_counts().get('Yes', 0)}, Per: {df['Gladiator'].value_counts().get('Yes', 0)/170}\")\n",
    "print(f\"Jurassic Park Movie Count: {df['Jurassic Park'].value_counts().get('Yes', 0)}, Per: {df['Jurassic Park'].value_counts().get('Yes', 0)/170}\")\n",
    "print(f\"Star Wars Movie Count: {df['Star Wars'].value_counts().get('Yes', 0)}, Per: {df['Star Wars'].value_counts().get('Yes', 0)/170}\")\n",
    "print(f\"Mulan Movie Count: {df['Mulan'].value_counts().get('Yes', 0)}, Per: {df['Mulan'].value_counts().get('Yes', 0)/170}\")\n",
    "print(f\"Sherk Movie Count: {df['Shrek'].value_counts().get('Yes', 0)}, Per: {df['Shrek'].value_counts().get('Yes', 0)/170}\")\n",
    "print(f\"Hamilton Movie Count: {df['Hamilton'].value_counts().get('Yes', 0)}, Per: {df['Hamilton'].value_counts().get('Yes', 0)/170}\")\n",
    "\n",
    "df = df.drop('Mulan',axis=1)\n",
    "df = df.drop('Star Wars',axis=1)\n",
    "df = df.drop('Jurassic Park',axis=1)\n",
    "df = df.drop('Gladiator',axis=1)\n",
    "df = df.drop('Spiderman',axis=1)\n",
    "df = df.drop('Shrek',axis=1)\n",
    "df = df.drop('Hamilton',axis=1)"
   ]
  },
  {
   "cell_type": "markdown",
   "metadata": {
    "id": "Ib6GhjcoqvP3"
   },
   "source": [
    "\"SpiderMan\" Movie is selected most number of times, so it is the most preferred movie with percentage of 30%."
   ]
  },
  {
   "cell_type": "markdown",
   "metadata": {
    "id": "uZYR770nqaq9"
   },
   "source": [
    "Now, we will clean 'Best_Movies' column data."
   ]
  },
  {
   "cell_type": "code",
   "execution_count": 674,
   "metadata": {
    "colab": {
     "base_uri": "https://localhost:8080/"
    },
    "id": "Gh1zJdKnDmns",
    "outputId": "9fefcbac-60e9-468e-b188-b00388e75563"
   },
   "outputs": [
    {
     "data": {
      "text/plain": [
       "D. Spiderman                                                                                   15\n",
       "C. Gladiator                                                                                    8\n",
       "G. Jurassic Park                                                                                7\n",
       "A. Star Wars                                                                                    6\n",
       "A. Star Wars\\nB. Shrek\\nD. Spiderman\\nG. Jurassic Park                                          4\n",
       "D. Spiderman\\nG. Jurassic Park                                                                  4\n",
       "A. Star Wars\\nD. Spiderman                                                                      4\n",
       "C. Gladiator\\nD. Spiderman                                                                      4\n",
       "E. Mulan                                                                                        4\n",
       "B. Shrek                                                                                        4\n",
       "A. Star Wars\\nD. Spiderman\\nG. Jurassic Park                                                    3\n",
       "F. Hamilton                                                                                     2\n",
       "A. Star Wars\\nC. Gladiator\\nD. Spiderman\\nG. Jurassic Park                                      2\n",
       "A. Star Wars\\nC. Gladiator\\nD. Spiderman                                                        1\n",
       "D. Spiderman\\nE. Mulan                                                                          1\n",
       "B. Shrek\\nE. Mulan\\nG. Jurassic Park                                                            1\n",
       "B. Shrek\\nC. Gladiator\\nD. Spiderman\\nG. Jurassic Park                                          1\n",
       "C. Gladiator\\nD. Spiderman\\nG. Jurassic Park                                                    1\n",
       "A. Star Wars\\nC. Gladiator                                                                      1\n",
       "D. Spiderman\\nE. Mulan\\nF. Hamilton\\nG. Jurassic Park                                           1\n",
       "A. Star Wars\\nE. Mulan\\nG. Jurassic Park                                                        1\n",
       "A. Star Wars\\nD. Spiderman\\nE. Mulan\\nF. Hamilton                                               1\n",
       "A. Star Wars\\nD. Spiderman\\nE. Mulan\\nG. Jurassic Park                                          1\n",
       "A. Star Wars\\nC. Gladiator\\nD. Spiderman\\nE. Mulan\\nG. Jurassic Park                            1\n",
       "A. Star Wars\\nD. Spiderman\\nF. Hamilton\\nG. Jurassic Park                                       1\n",
       "A. Star Wars\\nB. Shrek\\nC. Gladiator\\nD. Spiderman\\nE. Mulan\\nF. Hamilton\\nG. Jurassic Park     1\n",
       "D. Spiderman\\nE. Mulan\\nG. Jurassic Park                                                        1\n",
       "A. Star Wars\\nB. Shrek\\nD. Spiderman\\nE. Mulan\\nG. Jurassic Park                                1\n",
       "A. Star Wars\\nB. Shrek\\nD. Spiderman\\nE. Mulan                                                  1\n",
       "A. Star Wars\\nB. Shrek\\nC. Gladiator\\nD. Spiderman                                              1\n",
       "C. Gladiator\\nD. Spiderman\\nF. Hamilton                                                         1\n",
       "Name: Best_Movies, dtype: int64"
      ]
     },
     "execution_count": 674,
     "metadata": {},
     "output_type": "execute_result"
    }
   ],
   "source": [
    "df['Best_Movies'].value_counts()"
   ]
  },
  {
   "cell_type": "markdown",
   "metadata": {
    "id": "Z86gfvhArDS2"
   },
   "source": [
    "Split the column data and save first preferred movie in a new column data and drop the old column."
   ]
  },
  {
   "cell_type": "code",
   "execution_count": 676,
   "metadata": {
    "id": "atvteoalU0ir"
   },
   "outputs": [],
   "source": [
    "df['Preferred_Movie'] = df['Best_Movies'].str.split('\\n').str[0]\n",
    "df = df.drop('Best_Movies',axis=1)"
   ]
  },
  {
   "cell_type": "markdown",
   "metadata": {
    "id": "l1ljxK3XrRNZ"
   },
   "source": [
    "Now, Encode all the objective column into labels based on unique data in each column."
   ]
  },
  {
   "cell_type": "code",
   "execution_count": 677,
   "metadata": {
    "id": "RhE8IyLgSL5N"
   },
   "outputs": [],
   "source": [
    "from sklearn import preprocessing\n",
    "\n",
    "label_encoder = preprocessing.LabelEncoder()\n",
    "\n",
    "df['Average_Movies_per_Week']= label_encoder.fit_transform(df['Average_Movies_per_Week'])\n",
    "df['Ad1']= label_encoder.fit_transform(df['Ad1'])\n",
    "df['Ad2']= label_encoder.fit_transform(df['Ad2'])\n",
    "df['Ad3']= label_encoder.fit_transform(df['Ad3'])\n",
    "df['Ad4']= label_encoder.fit_transform(df['Ad4'])\n",
    "df['Ad5']= label_encoder.fit_transform(df['Ad5'])\n",
    "df['Preferred_Movie']= label_encoder.fit_transform(df['Preferred_Movie'])"
   ]
  },
  {
   "cell_type": "markdown",
   "metadata": {
    "id": "RDjVwwvjrcXa"
   },
   "source": [
    "We will be trying the predict the Prefeered movie based on remaining values, so we will remeber the labeling of 'Preferred_Movies'"
   ]
  },
  {
   "cell_type": "code",
   "execution_count": 678,
   "metadata": {
    "colab": {
     "base_uri": "https://localhost:8080/"
    },
    "id": "Tbnjkk3ja9Xs",
    "outputId": "59f373e5-03b3-455c-af4a-d760039e0cc0"
   },
   "outputs": [
    {
     "name": "stdout",
     "output_type": "stream",
     "text": [
      "Label: 3 | Code: 3\n",
      "Label: 1 | Code: 1\n",
      "Label: 6 | Code: 6\n",
      "Label: 0 | Code: 0\n",
      "Label: 4 | Code: 4\n",
      "Label: 2 | Code: 2\n",
      "Label: 5 | Code: 5\n"
     ]
    }
   ],
   "source": [
    "encoded_labels = label_encoder.fit_transform(df['Preferred_Movie'])\n",
    "label_to_code = {label: code for label, code in zip(df['Preferred_Movie'], encoded_labels)}\n",
    "\n",
    "\n",
    "for label, code in label_to_code.items():\n",
    "    print(f\"Label: {label} | Code: {code}\")"
   ]
  },
  {
   "cell_type": "markdown",
   "metadata": {
    "id": "Tog_L81Urs2L"
   },
   "source": [
    "Now we will outliers in the data by find the data out of 1 to 10, first we will replace them with nan and then with mean of the column."
   ]
  },
  {
   "cell_type": "code",
   "execution_count": 680,
   "metadata": {
    "colab": {
     "base_uri": "https://localhost:8080/"
    },
    "id": "VISSjAL8bri5",
    "outputId": "78e0a3a8-897f-4df1-d070-a6e1829cd94a"
   },
   "outputs": [
    {
     "name": "stdout",
     "output_type": "stream",
     "text": [
      "Int64Index([], dtype='int64') action_movies_\n",
      "Int64Index([], dtype='int64') adventure_movies_\n",
      "Int64Index([], dtype='int64') comedy_movies_\n",
      "Int64Index([41, 51, 65, 83], dtype='int64') crime_movies_\n",
      "Int64Index([41], dtype='int64') drama_movies\n",
      "Int64Index([], dtype='int64') fantasy_movies\n",
      "Int64Index([31, 40], dtype='int64') science_fiction_movies\n",
      "Int64Index([], dtype='int64') horror_movies\n",
      "Int64Index([], dtype='int64') mystery_movies\n",
      "Int64Index([23], dtype='int64') romance_movies\n",
      "Int64Index([19, 28, 51, 65, 83], dtype='int64') thriller_movies\n",
      "Int64Index([], dtype='int64') documentary_movies\n",
      "Int64Index([31], dtype='int64') animated_movies\n"
     ]
    }
   ],
   "source": [
    "columns = ['action_movies_', 'adventure_movies_', 'comedy_movies_',\n",
    "           'crime_movies_', 'drama_movies', 'fantasy_movies',\n",
    "           'science_fiction_movies', 'horror_movies', 'mystery_movies',\n",
    "           'romance_movies', 'thriller_movies', 'documentary_movies',\n",
    "           'animated_movies']\n",
    "\n",
    "for i in columns:\n",
    "    print(df[i][(df[i] > 10) | (df[i] < 0)].index,i)"
   ]
  },
  {
   "cell_type": "markdown",
   "metadata": {
    "id": "lyzpsqrhr919"
   },
   "source": [
    "From index shown we will repca ethem with nan(NULL) value."
   ]
  },
  {
   "cell_type": "code",
   "execution_count": 681,
   "metadata": {
    "id": "r2oLvAZ6uvoF"
   },
   "outputs": [],
   "source": [
    "df.loc[41,'crime_movies_'] = np.nan\n",
    "df.loc[51,'crime_movies_'] = np.nan\n",
    "df.loc[65,'crime_movies_'] = np.nan\n",
    "df.loc[83,'crime_movies_'] = np.nan\n",
    "df.loc[41,'drama_movies']= np.nan\n",
    "df.loc[31,'science_fiction_movies'] = np.nan\n",
    "df.loc[40,'science_fiction_movies']  = np.nan\n",
    "df.loc[23,'romance_movies'] = np.nan\n",
    "df.loc[19,'thriller_movies'] = np.nan\n",
    "df.loc[28,'thriller_movies'] = np.nan\n",
    "df.loc[51,'thriller_movies'] = np.nan\n",
    "df.loc[65,'thriller_movies'] = np.nan\n",
    "df.loc[83,'thriller_movies'] = np.nan\n",
    "df.loc[31,'animated_movies'] = np.nan"
   ]
  },
  {
   "cell_type": "markdown",
   "metadata": {
    "id": "P21qadBbsEA3"
   },
   "source": [
    "Replace all null in a column with mean of that column."
   ]
  },
  {
   "cell_type": "code",
   "execution_count": 682,
   "metadata": {
    "id": "hsud97oEhQ7Y"
   },
   "outputs": [],
   "source": [
    "for i in df.columns[1:]:\n",
    "  df[i].fillna(df[i].mean(),inplace=True)"
   ]
  },
  {
   "cell_type": "markdown",
   "metadata": {
    "id": "hXJ8WeD9iDLb"
   },
   "source": [
    "# Dendrogram"
   ]
  },
  {
   "cell_type": "code",
   "execution_count": 702,
   "metadata": {
    "id": "EFsaJP44iF81"
   },
   "outputs": [],
   "source": [
    "from sklearn.preprocessing import StandardScaler\n",
    "from scipy.spatial.distance import pdist\n",
    "from scipy.cluster.hierarchy import dendrogram, linkage\n",
    "\n",
    "X = df.iloc[:,1:4]\n",
    "scaler = StandardScaler()\n",
    "X = scaler.fit_transform(X)\n",
    "P = pd.DataFrame(X)\n",
    "dist = pdist(P)\n",
    "\n",
    "Model1 = linkage(dist,method = 'single')"
   ]
  },
  {
   "cell_type": "code",
   "execution_count": 703,
   "metadata": {
    "id": "KaEoKVh5jcJz"
   },
   "outputs": [],
   "source": [
    "labels = df.Student_Name.unique()"
   ]
  },
  {
   "cell_type": "code",
   "execution_count": 704,
   "metadata": {
    "colab": {
     "base_uri": "https://localhost:8080/",
     "height": 980
    },
    "id": "Z2Mh3FATi0JE",
    "outputId": "c7c913df-6c02-4827-d1c1-f429f70754fd"
   },
   "outputs": [
    {
     "data": {
      "image/png": "[encoded data removed]",
      "text/plain": [
       "<Figure size 1500x1000 with 1 Axes>"
      ]
     },
     "metadata": {},
     "output_type": "display_data"
    }
   ],
   "source": [
    "import matplotlib.pyplot as plt\n",
    "\n",
    "plt.figure(figsize=(15, 10))\n",
    "dendrogram(Model1, labels= labels, leaf_rotation=90)\n",
    "plt.title(\"Clustering based on all columns\")\n",
    "plt.show()"
   ]
  },
  {
   "cell_type": "markdown",
   "metadata": {
    "id": "R-gMwPbqsprC"
   },
   "source": [
    "From the Dendrogram we can understand that **\"K=4\"**, based on distances of standardised data."
   ]
  },
  {
   "cell_type": "markdown",
   "metadata": {
    "id": "FR6hAkZNmjgb"
   },
   "source": [
    "#KMeans"
   ]
  },
  {
   "cell_type": "code",
   "execution_count": 691,
   "metadata": {
    "colab": {
     "base_uri": "https://localhost:8080/",
     "height": 453
    },
    "id": "bVcgx_BnmlrZ",
    "outputId": "a394ef3b-6eea-46af-cf6e-fa613d2fdf24"
   },
   "outputs": [
    {
     "data": {
      "image/png": "[encoded data removed]",
      "text/plain": [
       "<Figure size 640x480 with 1 Axes>"
      ]
     },
     "metadata": {},
     "output_type": "display_data"
    }
   ],
   "source": [
    "from sklearn.cluster import KMeans\n",
    "\n",
    "WCSS = []\n",
    "k = [1,2,3,4,5,6,7,8,9,10]\n",
    "for j in k:\n",
    "    kmModel = KMeans(n_clusters=j)\n",
    "    kmModel = kmModel.fit(X)\n",
    "    WCSS.append(kmModel.inertia_)\n",
    "\n",
    "ax = plt.figure().gca()\n",
    "plt.plot(k, WCSS, '*-')\n",
    "plt.title('Number of clusters(k) for Country Clustering', fontsize=14)\n",
    "plt.show()"
   ]
  },
  {
   "cell_type": "markdown",
   "metadata": {
    "id": "95DZ3HK7s001"
   },
   "source": [
    "From scree plot, we there is no fixed K as it is decreasing normally there is no sudden decrease.but at K=4, there is slight high decrease.Optimal **\"K = 4\"** for KMeans."
   ]
  },
  {
   "cell_type": "markdown",
   "metadata": {
    "id": "IWNl_6-kb149"
   },
   "source": [
    "# KMeans"
   ]
  },
  {
   "cell_type": "code",
   "execution_count": 712,
   "metadata": {
    "colab": {
     "base_uri": "https://localhost:8080/"
    },
    "id": "CYesSJpkeJws",
    "outputId": "caf02fea-8c06-44c8-d3e5-cb78a0346a28"
   },
   "outputs": [
    {
     "data": {
      "text/plain": [
       "29.411764705882355"
      ]
     },
     "execution_count": 712,
     "metadata": {},
     "output_type": "execute_result"
    }
   ],
   "source": [
    "from sklearn.metrics import accuracy_score\n",
    "\n",
    "Y = df['Preferred_Movie'].values.reshape(-1,1)\n",
    "X_train, X_test, y_train, y_test = train_test_split(df.iloc[:,1:4], Y, test_size=0.2, random_state=42)\n",
    "\n",
    "kmModel = KMeans(n_clusters=4)\n",
    "kmModel = kmModel.fit(df.iloc[:,1:4])\n",
    "Accuracy = accuracy_score(y_test,kmModel.predict(X_test)) * 100\n",
    "Accuracy"
   ]
  },
  {
   "cell_type": "code",
   "execution_count": 715,
   "metadata": {
    "colab": {
     "base_uri": "https://localhost:8080/"
    },
    "id": "XvCHahuIt49M",
    "outputId": "e5d00ee1-6df6-45e1-c9e5-3db031de84bd"
   },
   "outputs": [
    {
     "data": {
      "text/plain": [
       "array([0, 1, 3, 0, 3, 2, 2, 3, 0, 0, 0, 0, 0, 2, 0, 0, 3, 0, 2, 3, 2, 2,\n",
       "       0, 2, 1, 2, 2, 0, 0, 0, 2, 2, 0, 0, 0, 0, 2, 2, 2, 2, 0, 2, 2, 0,\n",
       "       2, 0, 1, 0, 2, 0, 1, 0, 2, 2, 2, 2, 0, 0, 1, 1, 2, 2, 0, 2, 0, 0,\n",
       "       2, 0, 0, 2, 2, 2, 2, 3, 1, 0, 3, 3, 2, 0, 2, 2, 2, 1, 2],\n",
       "      dtype=int32)"
      ]
     },
     "execution_count": 715,
     "metadata": {},
     "output_type": "execute_result"
    }
   ],
   "source": [
    "kmModel.labels_"
   ]
  },
  {
   "cell_type": "code",
   "execution_count": 713,
   "metadata": {
    "colab": {
     "base_uri": "https://localhost:8080/",
     "height": 430
    },
    "id": "CHWrmxHcegNt",
    "outputId": "f9566db6-a666-48ae-f4ab-f6e5b24991f9"
   },
   "outputs": [
    {
     "data": {
      "image/png": "[encoded data removed]",
      "text/plain": [
       "<Figure size 640x480 with 1 Axes>"
      ]
     },
     "metadata": {},
     "output_type": "display_data"
    }
   ],
   "source": [
    "plt.scatter(df['animated_movies'], df['adventure_movies_'], c=kmModel.labels_)\n",
    "plt.show()"
   ]
  },
  {
   "cell_type": "markdown",
   "metadata": {
    "id": "5dEXolDtuESd"
   },
   "source": [
    "We have trained data with K = 4, obtained labels of data. we will feed to the supervised learning."
   ]
  },
  {
   "cell_type": "markdown",
   "metadata": {
    "id": "3MeF_yGhmBw-"
   },
   "source": [
    "# KNN"
   ]
  },
  {
   "cell_type": "code",
   "execution_count": 716,
   "metadata": {
    "colab": {
     "base_uri": "https://localhost:8080/"
    },
    "id": "qAX6NF8Tnc5V",
    "outputId": "a24052a3-0ca4-4d27-9abc-e6d60cf7cbff"
   },
   "outputs": [
    {
     "name": "stdout",
     "output_type": "stream",
     "text": [
      "[2 0 0 0 0 2 0 2 3 2 0 0 0 2 2 2 0]\n",
      "[2 0 0 0 0 2 0 2 3 2 0 0 0 2 2 2 0]\n"
     ]
    }
   ],
   "source": [
    "A = df.iloc[:,1:4]\n",
    "Y2 = kmModel.labels_\n",
    "X2_train, X2_test, y2_train, y2_test = train_test_split(A, Y2, test_size=0.2, random_state=42)\n",
    "\n",
    "knn = KNeighborsClassifier(n_neighbors=3)\n",
    "knn.fit(X2_train,y2_train)\n",
    "\n",
    "predicted = knn.predict(X2_test)\n",
    "print(predicted)\n",
    "print(y2_test.reshape(-1,))"
   ]
  },
  {
   "cell_type": "markdown",
   "metadata": {
    "id": "x4CuSeS0ueAh"
   },
   "source": [
    "We have accurcay of 100% for 1,2,3 neighbours data."
   ]
  },
  {
   "cell_type": "markdown",
   "metadata": {
    "id": "5LhF9RQ4FV2O"
   },
   "source": [
    "# Prediction"
   ]
  },
  {
   "cell_type": "code",
   "execution_count": 701,
   "metadata": {
    "id": "0clw2KZoY9__"
   },
   "outputs": [],
   "source": [
    "KNN = KNeighborsClassifier(n_neighbors=2)\n",
    "KNN.fit(df.iloc[:, 1:4], df['Preferred_Movie'].values.reshape(-1, 1))\n",
    "\n",
    "def KNN_Engine(rating):\n",
    "    cluster = KNN.predict([rating])[0]\n",
    "    if cluster == 0:\n",
    "        favorite_movie = \"Star Wars\"\n",
    "    elif cluster == 1:\n",
    "        favorite_movie = \"Shrek\"\n",
    "    elif cluster == 2:\n",
    "        favorite_movie = \"Gladiator\"\n",
    "    elif cluster == 3:\n",
    "        favorite_movie = \"Spiderman\"\n",
    "    elif cluster == 4:\n",
    "        favorite_movie = \"Mulan\"\n",
    "    elif cluster == 5:\n",
    "        favorite_movie = \"Hamilton\"\n",
    "    elif cluster == 6:\n",
    "        favorite_movie = \"Jurassic Park\"\n",
    "\n",
    "    return f\"favorite movie cluster is: {favorite_movie}\""
   ]
  },
  {
   "cell_type": "markdown",
   "metadata": {
    "id": "-8e_mQt8uno4"
   },
   "source": [
    "We have created function with 3 inputs (first 3 columns of data), and y as 'Preferred_movie' column to predict the movie type based input for 3 columns. The studied labels is used here to understand code and label clustering."
   ]
  },
  {
   "cell_type": "code",
   "execution_count": 717,
   "metadata": {
    "colab": {
     "base_uri": "https://localhost:8080/"
    },
    "id": "q2rpLW7EhGgv",
    "outputId": "a46b4ddb-30a2-46b4-9f90-79badf69569c"
   },
   "outputs": [
    {
     "name": "stdout",
     "output_type": "stream",
     "text": [
      "KNN Student 1 favorite movie cluster is: Spiderman\n",
      "KNN Student 2 favorite movie cluster is: Spiderman\n",
      "KNN Student 3 favorite movie cluster is: Gladiator\n",
      "KNN Student 4 favorite movie cluster is: Shrek\n",
      "KNN Student 5 favorite movie cluster is: Spiderman\n",
      "KNN Student 6 favorite movie cluster is: Spiderman\n",
      "KNN Student 7 favorite movie cluster is: Spiderman\n",
      "KNN Student 8 favorite movie cluster is: Shrek\n",
      "KNN Student 9 favorite movie cluster is: Shrek\n",
      "KNN Student 10 favorite movie cluster is: Spiderman\n"
     ]
    }
   ],
   "source": [
    "student1 = [5, 7, 3]\n",
    "student2 = [2, 8, 1]\n",
    "student3 = [9, 4, 6]\n",
    "student4 = [0, 7, 8]\n",
    "student5 = [3, 9, 2]\n",
    "student6 = [6, 1, 4]\n",
    "student7 = [7, 0, 5]\n",
    "student8 = [2, 6, 8]\n",
    "student9 = [3, 4, 7]\n",
    "student10 = [1, 9, 0]\n",
    "\n",
    "students = [student1, student2, student3, student4, student5, student6, student7, student8, student9, student10]\n",
    "\n",
    "for i, student_data in enumerate(students, 1):\n",
    "    print(f\"KNN Student {i}\",KNN_Engine(student_data))"
   ]
  },
  {
   "cell_type": "markdown",
   "metadata": {
    "id": "NBKnn9ZBvDzz"
   },
   "source": [
    "We have predicted the data of 10 members finding there favourite movies."
   ]
  },
  {
   "cell_type": "markdown",
   "metadata": {
    "id": "1xGfzwMWvBYt"
   },
   "source": [
    "# Summary\n",
    "The data is unstructured, wehen we expected one value, there are mix of 3-4 values in single value. we have clean and undestand data better. We have fix the value to single not \"Multiple values\" in people rating.\n",
    "\n",
    "Though we got **\"K=4\"** from both supervised and unsupervised learning, we have clusters of 7 movie options. 4 options from 7 are highly used by all members.As 3 have 7 movies we have clustered data into 7.\n",
    "\n",
    "**\"SpiderMan\"** has the most preferred movie suggested from analysis.I recommened to Play this movie for Masters students.\n",
    "\n"
   ]
  }
 ],
 "metadata": {
  "colab": {
   "provenance": []
  },
  "kernelspec": {
   "display_name": "Python 3 (ipykernel)",
   "language": "python",
   "name": "python3"
  },
  "language_info": {
   "codemirror_mode": {
    "name": "ipython",
    "version": 3
   },
   "file_extension": ".py",
   "mimetype": "text/x-python",
   "name": "python",
   "nbconvert_exporter": "python",
   "pygments_lexer": "ipython3",
   "version": "3.11.4"
  }
 },
 "nbformat": 4,
 "nbformat_minor": 1
}
